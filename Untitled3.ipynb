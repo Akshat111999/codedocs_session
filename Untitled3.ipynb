{
  "nbformat": 4,
  "nbformat_minor": 0,
  "metadata": {
    "colab": {
      "name": "Untitled3.ipynb",
      "version": "0.3.2",
      "provenance": [],
      "include_colab_link": true
    },
    "kernelspec": {
      "name": "python3",
      "display_name": "Python 3"
    }
  },
  "cells": [
    {
      "cell_type": "markdown",
      "metadata": {
        "id": "view-in-github",
        "colab_type": "text"
      },
      "source": [
        "[View in Colaboratory](https://colab.research.google.com/github/GHakshay/codedocs_session/blob/master/Untitled3.ipynb)"
      ]
    },
    {
      "metadata": {
        "id": "pUstQlyLS4oz",
        "colab_type": "code",
        "colab": {
          "base_uri": "https://localhost:8080/",
          "height": 34
        },
        "outputId": "184620b8-90c4-4192-8f98-5381fc44790f"
      },
      "cell_type": "code",
      "source": [
        "a='hello world'\n",
        "print(id(a))\n"
      ],
      "execution_count": 1,
      "outputs": [
        {
          "output_type": "stream",
          "text": [
            "140073109029232\n"
          ],
          "name": "stdout"
        }
      ]
    },
    {
      "metadata": {
        "id": "7iuMe9xyT3QH",
        "colab_type": "code",
        "colab": {
          "base_uri": "https://localhost:8080/",
          "height": 34
        },
        "outputId": "5ec6d057-ef74-4c03-ae95-c06e6d2f93b1"
      },
      "cell_type": "code",
      "source": [
        "a='akshay kumar thakur'\n",
        "print(id(a))"
      ],
      "execution_count": 11,
      "outputs": [
        {
          "output_type": "stream",
          "text": [
            "140073108196208\n"
          ],
          "name": "stdout"
        }
      ]
    },
    {
      "metadata": {
        "id": "ITCAMgFNUM8J",
        "colab_type": "text"
      },
      "cell_type": "markdown",
      "source": [
        " **So basically string is immutable as changing the value its address gets changed**"
      ]
    },
    {
      "metadata": {
        "id": "ljFgbwbzUcWa",
        "colab_type": "code",
        "colab": {
          "base_uri": "https://localhost:8080/",
          "height": 34
        },
        "outputId": "5de308c4-594a-40b6-e720-8ac668971bc1"
      },
      "cell_type": "code",
      "source": [
        "print(a.split())"
      ],
      "execution_count": 13,
      "outputs": [
        {
          "output_type": "stream",
          "text": [
            "['akshay', 'kumar', 'thakur']\n"
          ],
          "name": "stdout"
        }
      ]
    },
    {
      "metadata": {
        "id": "wPk5EZPzVwxG",
        "colab_type": "code",
        "colab": {
          "base_uri": "https://localhost:8080/",
          "height": 34
        },
        "outputId": "1b5aec1f-868e-444d-b4be-f76617231a3f"
      },
      "cell_type": "code",
      "source": [
        "b='akshay:kumar'\n",
        "print(b)"
      ],
      "execution_count": 15,
      "outputs": [
        {
          "output_type": "stream",
          "text": [
            "akshay:kumar\n"
          ],
          "name": "stdout"
        }
      ]
    },
    {
      "metadata": {
        "id": "tdDdEbJuWCxn",
        "colab_type": "code",
        "colab": {
          "base_uri": "https://localhost:8080/",
          "height": 34
        },
        "outputId": "cb623d0d-778e-41dc-943b-8aca4091c44f"
      },
      "cell_type": "code",
      "source": [
        "print(b.split())"
      ],
      "execution_count": 16,
      "outputs": [
        {
          "output_type": "stream",
          "text": [
            "['akshay:kumar']\n"
          ],
          "name": "stdout"
        }
      ]
    },
    {
      "metadata": {
        "id": "yQ7Mj_L_WRfl",
        "colab_type": "code",
        "colab": {
          "base_uri": "https://localhost:8080/",
          "height": 34
        },
        "outputId": "9633ca6d-82e5-4458-8588-79908563c366"
      },
      "cell_type": "code",
      "source": [
        "\n",
        "a=['hello','akshay']\n",
        "for i in a:\n",
        "  s+=i\n",
        "print(s)"
      ],
      "execution_count": 25,
      "outputs": [
        {
          "output_type": "stream",
          "text": [
            "helloakshayhelloakshayhelloakshayhelloakshay\n"
          ],
          "name": "stdout"
        }
      ]
    },
    {
      "metadata": {
        "id": "sCLabamXYmy2",
        "colab_type": "code",
        "colab": {
          "base_uri": "https://localhost:8080/",
          "height": 51
        },
        "outputId": "e50b33da-089d-4425-9ef0-a90427b07912"
      },
      "cell_type": "code",
      "source": [
        "a=input()\n",
        "print(a,type(a))"
      ],
      "execution_count": 31,
      "outputs": [
        {
          "output_type": "stream",
          "text": [
            "a 3 4 5g\n",
            "a 3 4 5g <class 'str'>\n"
          ],
          "name": "stdout"
        }
      ]
    },
    {
      "metadata": {
        "id": "_nXBTh1DZ3Ke",
        "colab_type": "code",
        "colab": {
          "base_uri": "https://localhost:8080/",
          "height": 68
        },
        "outputId": "58207d4f-8108-4012-acb7-28ec07299fc0"
      },
      "cell_type": "code",
      "source": [
        "a=input('Enter sring:')\n",
        "print(a)\n",
        "print(a.split())"
      ],
      "execution_count": 33,
      "outputs": [
        {
          "output_type": "stream",
          "text": [
            "Enter sring:my name is akshay\n",
            "my name is akshay\n",
            "['my', 'name', 'is', 'akshay']\n"
          ],
          "name": "stdout"
        }
      ]
    },
    {
      "metadata": {
        "id": "fAUBhY4nabDj",
        "colab_type": "code",
        "colab": {
          "base_uri": "https://localhost:8080/",
          "height": 85
        },
        "outputId": "212ba50f-b42d-4981-a429-a0a16dd1a29d"
      },
      "cell_type": "code",
      "source": [
        "file=open('myfile.txt','w')\n",
        "file.write(input('enter something : '))\n",
        "file=open('myfile.txt','r')\n",
        "print(file.read())\n",
        "print(file.tell())\n",
        "file.seek(4)\n",
        "print(file.read())\n",
        "file.close()"
      ],
      "execution_count": 45,
      "outputs": [
        {
          "output_type": "stream",
          "text": [
            "enter something : akshay kumar thakur\n",
            "akshay kumar thakur\n",
            "19\n",
            "ay kumar thakur\n"
          ],
          "name": "stdout"
        }
      ]
    },
    {
      "metadata": {
        "id": "vDktUcOrc18t",
        "colab_type": "code",
        "colab": {
          "base_uri": "https://localhost:8080/",
          "height": 180
        },
        "outputId": "7b875d97-aa36-42de-84a8-1da577dc6e81"
      },
      "cell_type": "code",
      "source": [
        "file.seek(1)\n",
        "print(file.read())"
      ],
      "execution_count": 40,
      "outputs": [
        {
          "output_type": "error",
          "ename": "ValueError",
          "evalue": "ignored",
          "traceback": [
            "\u001b[0;31m---------------------------------------------------------------------------\u001b[0m",
            "\u001b[0;31mValueError\u001b[0m                                Traceback (most recent call last)",
            "\u001b[0;32m<ipython-input-40-83424d58e324>\u001b[0m in \u001b[0;36m<module>\u001b[0;34m()\u001b[0m\n\u001b[0;32m----> 1\u001b[0;31m \u001b[0mfile\u001b[0m\u001b[0;34m.\u001b[0m\u001b[0mseek\u001b[0m\u001b[0;34m(\u001b[0m\u001b[0;36m1\u001b[0m\u001b[0;34m)\u001b[0m\u001b[0;34m\u001b[0m\u001b[0m\n\u001b[0m\u001b[1;32m      2\u001b[0m \u001b[0mprint\u001b[0m\u001b[0;34m(\u001b[0m\u001b[0mfile\u001b[0m\u001b[0;34m.\u001b[0m\u001b[0mread\u001b[0m\u001b[0;34m(\u001b[0m\u001b[0;34m)\u001b[0m\u001b[0;34m)\u001b[0m\u001b[0;34m\u001b[0m\u001b[0m\n",
            "\u001b[0;31mValueError\u001b[0m: I/O operation on closed file."
          ]
        }
      ]
    }
  ]
}